{
 "cells": [
  {
   "cell_type": "markdown",
   "id": "mexican-bowling",
   "metadata": {},
   "source": [
    "# Figure 1: Plot of Complex Numbers on a Cartesian Plane\n",
    "\n",
    "Let $z \\in \\mathbb{C}$. We may express $z$ as an ordered pair of real numbers, $(a, b)$, such that $z = (a, b)$.\n",
    "\n",
    "For any real number $a$ such that $a \\in \\mathbb{R}$, the **_complex number_** $z = (a, 0)$ is real, and is projected on to the **_real axis_** of the **_complex plane_**.\n",
    "\n",
    "For any real number $b$ such that $b \\in \\mathbb{R}$, the **_complex number_** $z = (0, b)$ is purely imaginary, and is projected on to the **_imaginary axis_**."
   ]
  },
  {
   "cell_type": "code",
   "execution_count": 23,
   "id": "little-florida",
   "metadata": {},
   "outputs": [],
   "source": [
    "zc = (2.5, 2.5)  # Define a complex variable with both real and imaginary parts\n",
    "zr = (3, 0)      # Define a complex variable with only a real part\n",
    "zi = (0, 1)      # Define a complex variable with only an imaginary part"
   ]
  },
  {
   "cell_type": "code",
   "execution_count": 24,
   "id": "nearby-little",
   "metadata": {},
   "outputs": [],
   "source": [
    "Re = [c[0] for c in [zc, zr, zi]]  # Create the Real axis points\n",
    "Im = [c[1] for c in [zc, zr, zi]]  # Create the Imaginary axis points\n",
    "color_flags = ['r', 'g', 'b']      # Define color list for plot\n",
    "remin, immin = (-1, -1)            # Define Re/Im axis minimum\n",
    "remax, immax = (4, 4)              # Define Re/Im axis maximum\n",
    "tick_freq = 1                      # Define the frequency to display axis ticks"
   ]
  },
  {
   "cell_type": "code",
   "execution_count": 31,
   "id": "acknowledged-validation",
   "metadata": {},
   "outputs": [
    {
     "data": {
      "image/png": "[encoded data removed]",
      "text/plain": [
       "<Figure size 720x720 with 1 Axes>"
      ]
     },
     "metadata": {
      "needs_background": "light"
     },
     "output_type": "display_data"
    }
   ],
   "source": [
    "from matplotlib import pyplot as plt\n",
    "from matplotlib.lines import Line2D\n",
    "%matplotlib inline\n",
    "\n",
    "# Create Plot\n",
    "fig, ax = plt.subplots(figsize=(10, 10))\n",
    "scatter = ax.scatter(Re, Im, c=color_flags)\n",
    "\n",
    "# Draw Lines\n",
    "for x, y, c in zip(Re, Im, color_flags):\n",
    "    ax.plot([x, x], [0, y], c=c, ls='--', lw=1.5, alpha=0.5)\n",
    "    ax.plot([0, x], [y, y], c=c, ls='--', lw=1.5, alpha=0.5)\n",
    "    \n",
    "# Apply scaling\n",
    "ax.set(xlim=(remin-1, remax+1), ylim=(immin-1, immax+1), aspect='equal')\n",
    "\n",
    "# Apply axis spine styles\n",
    "ax.spines['left'].set_position('zero')\n",
    "ax.spines['top'].set_visible(False)\n",
    "ax.spines['right'].set_visible(False)\n",
    "ax.spines['bottom'].set_position('zero')\n",
    "\n",
    "# Apply title and axis labels\n",
    "ax.set_title(r'Figure 1: The Complex Plane, $\\mathbb{C}$', size=18, loc='right')\n",
    "ax.set_xlabel('Re', size=14, labelpad=-24, x=1.03)\n",
    "ax.set_ylabel('Im', size=14, labelpad=-24, y=1.02, rotation=0)\n",
    "\n",
    "# Apply plot major ticks\n",
    "ax.set_xticks([i for i in range(remin, remax+1, tick_freq) if i != 0])\n",
    "ax.set_yticks([i for i in range(immin, immax+1, tick_freq) if i != 0])\n",
    "\n",
    "# Apply plot minor ticks\n",
    "ax.set_xticks([i for i in range(remin, remax+1)], minor=True)\n",
    "ax.set_yticks([i for i in range(immin, immax+1)], minor=True)\n",
    "\n",
    "# Draw Cartesian grid lines\n",
    "ax.grid(which='both', color='grey', linewidth=1, linestyle='-', alpha=0.4)\n",
    "\n",
    "# Draw axis arrows\n",
    "arrow_fmt = dict(markersize=4, color='black', clip_on=False)\n",
    "ax.plot((1), (0), marker='>', transform=ax.get_yaxis_transform(), **arrow_fmt)\n",
    "ax.plot((0), (1), marker='^', transform=ax.get_xaxis_transform(), **arrow_fmt)\n",
    "\n",
    "# Draw point labels\n",
    "for x, y, i in zip(Re, Im, [1, 2, 3]):\n",
    "    label = rf'$z_{i}=({x},{y})$'\n",
    "    ax.annotate(label, (x, y), textcoords='offset points', xytext=(32, 8), ha='center')\n",
    "    \n",
    "# Draw legend\n",
    "legend_elements = [\n",
    "    Line2D([0], [0], marker='o', color='w', label=r'$z_{1} = 2.5 + i2.5$', markerfacecolor='r', markersize=8),\n",
    "    Line2D([0], [0], marker='o', color='w', label=r'$z_{2} = i$', markerfacecolor='g', markersize=8),\n",
    "    Line2D([0], [0], marker='o', color='w', label=r'$z_{3} = 3$', markerfacecolor='b', markersize=8)\n",
    "]\n",
    "legend = ax.legend(handles=legend_elements, loc='lower left', title=r'Complex Numbers')\n",
    "ax.add_artist(legend)\n",
    "\n",
    "fig.savefig('./img/c1-fig1.svg', format='svg')\n",
    "plt.show()"
   ]
  },
  {
   "cell_type": "code",
   "execution_count": null,
   "id": "interested-stand",
   "metadata": {},
   "outputs": [],
   "source": []
  }
 ],
 "metadata": {
  "kernelspec": {
   "display_name": "Python 3",
   "language": "python",
   "name": "python3"
  },
  "language_info": {
   "codemirror_mode": {
    "name": "ipython",
    "version": 3
   },
   "file_extension": ".py",
   "mimetype": "text/x-python",
   "name": "python",
   "nbconvert_exporter": "python",
   "pygments_lexer": "ipython3",
   "version": "3.7.5"
  }
 },
 "nbformat": 4,
 "nbformat_minor": 5
}
